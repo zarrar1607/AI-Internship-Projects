{
  "nbformat": 4,
  "nbformat_minor": 0,
  "metadata": {
    "colab": {
      "name": "Untitled28.ipynb",
      "provenance": []
    },
    "kernelspec": {
      "name": "python3",
      "display_name": "Python 3"
    },
    "language_info": {
      "name": "python"
    }
  },
  "cells": [
    {
      "cell_type": "code",
      "execution_count": null,
      "metadata": {
        "colab": {
          "base_uri": "https://localhost:8080/"
        },
        "id": "Vb_bHfJvxrVL",
        "outputId": "0988a6c0-0f63-4014-ccd7-4d4007d2f70a"
      },
      "outputs": [
        {
          "output_type": "stream",
          "name": "stdout",
          "text": [
            "[nltk_data] Downloading package punkt to /root/nltk_data...\n",
            "[nltk_data]   Unzipping tokenizers/punkt.zip.\n"
          ]
        },
        {
          "output_type": "execute_result",
          "data": {
            "text/plain": [
              "True"
            ]
          },
          "metadata": {},
          "execution_count": 2
        }
      ],
      "source": [
        "import nltk\n",
        "nltk.download('punkt')"
      ]
    },
    {
      "cell_type": "code",
      "source": [
        "a=\"Hi all !!!!! this is jishnu from pantech e-learning. Here by I am conducting AI Master class. Our vision is to share knowledge for 10 million people\"\n",
        "t=nltk.sent_tokenize(a)\n",
        "print(t)"
      ],
      "metadata": {
        "colab": {
          "base_uri": "https://localhost:8080/"
        },
        "id": "jxkGLlbQxwAE",
        "outputId": "88f81003-aa91-4e24-834f-50cbd4edf293"
      },
      "execution_count": null,
      "outputs": [
        {
          "output_type": "stream",
          "name": "stdout",
          "text": [
            "['Hi all !!!!!', 'this is jishnu from pantech e-learning.', 'Here by I am conducting AI Master class.', 'Our vision is to share knowledge for 10 million people']\n"
          ]
        }
      ]
    },
    {
      "cell_type": "code",
      "source": [
        "g=nltk.data.load('tokenizers/punkt/german.pickle')\n",
        "ge=g.tokenize('Wie geht es Ihnen?  Gut, danke.')\n",
        "print(ge)"
      ],
      "metadata": {
        "colab": {
          "base_uri": "https://localhost:8080/"
        },
        "id": "5OymGFlYylzj",
        "outputId": "4ace108a-987b-4234-f5e0-292b0917b16a"
      },
      "execution_count": null,
      "outputs": [
        {
          "output_type": "stream",
          "name": "stdout",
          "text": [
            "['Wie geht es Ihnen?', 'Gut, danke.']\n"
          ]
        }
      ]
    },
    {
      "cell_type": "code",
      "source": [
        "q=\"Hiall!!!!!thisisjishnufrompanteche-learning. Here by I am conducting AI Master class. Our vision is to share knowledge for 10 million people\"\n",
        "t=nltk.word_tokenize(q)\n",
        "print(t)"
      ],
      "metadata": {
        "colab": {
          "base_uri": "https://localhost:8080/"
        },
        "id": "xX5aKAV3zfDt",
        "outputId": "5babce60-a7e6-4003-9d48-432f6f23c61f"
      },
      "execution_count": null,
      "outputs": [
        {
          "output_type": "stream",
          "name": "stdout",
          "text": [
            "['Hiall', '!', '!', '!', '!', '!', 'thisisjishnufrompanteche-learning', '.', 'Here', 'by', 'I', 'am', 'conducting', 'AI', 'Master', 'class', '.', 'Our', 'vision', 'is', 'to', 'share', 'knowledge', 'for', '10', 'million', 'people']\n"
          ]
        }
      ]
    },
    {
      "cell_type": "code",
      "source": [
        ""
      ],
      "metadata": {
        "id": "5HRVaE8Cz8GK"
      },
      "execution_count": null,
      "outputs": []
    }
  ]
}